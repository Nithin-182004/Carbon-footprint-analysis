{
 "cells": [
  {
   "cell_type": "code",
   "execution_count": 4,
   "id": "dfd4e202",
   "metadata": {},
   "outputs": [],
   "source": [
    "import pandas as pd\n",
    "from sklearn.preprocessing import StandardScaler\n",
    "from sklearn.model_selection import train_test_split\n",
    "from xgboost import XGBRegressor\n",
    "from sklearn.metrics import r2_score\n",
    "\n",
    "train = pd.read_csv('train.csv')\n",
    "test = pd.read_csv('test.csv')\n",
    "\n",
    "test_ids = test['ID'].copy()"
   ]
  },
  {
   "cell_type": "code",
   "execution_count": 5,
   "id": "ccb09eb0",
   "metadata": {},
   "outputs": [],
   "source": [
    "numerical_cols = ['electricity_kwh_per_month', 'natural_gas_therms_per_month', 'vehicle_miles_per_month',\n",
    "                  'house_area_sqft', 'water_usage_liters_per_day', 'public_transport_usage_per_week',\n",
    "                  'household_size', 'home_insulation_quality', 'meat_consumption_kg_per_week', 'laundry_loads_per_week']\n",
    "binary_cols = ['recycles_regularly', 'composts_organic_waste', 'uses_solar_panels', 'energy_efficient_appliances',\n",
    "               'smart_thermostat_installed', 'owns_pet']"
   ]
  },
  {
   "cell_type": "code",
   "execution_count": 6,
   "id": "12ebec78",
   "metadata": {},
   "outputs": [],
   "source": [
    "for col in numerical_cols:\n",
    "    train_numeric = pd.to_numeric(train[col], errors='coerce')\n",
    "    test_numeric = pd.to_numeric(test[col], errors='coerce')\n",
    "    median_value = train_numeric.median()\n",
    "    train[col] = train_numeric.fillna(median_value)\n",
    "    test[col] = test_numeric.fillna(median_value)\n",
    "\n",
    "for col in binary_cols:\n",
    "    train[col] = train[col].fillna(train[col].mode()[0])\n",
    "    test[col] = test[col].fillna(train[col].mode()[0])"
   ]
  },
  {
   "cell_type": "code",
   "execution_count": 7,
   "id": "dd3f882f",
   "metadata": {},
   "outputs": [],
   "source": [
    "for col in ['electricity_kwh_per_month', 'natural_gas_therms_per_month', 'water_usage_liters_per_day',\n",
    "            'meat_consumption_kg_per_week', 'laundry_loads_per_week']:\n",
    "    train[col] = train[col].clip(lower=0)\n",
    "    test[col] = test[col].clip(lower=0)\n",
    "train['vehicle_miles_per_month'] = train['vehicle_miles_per_month'].clip(lower=0)\n",
    "test['vehicle_miles_per_month'] = test['vehicle_miles_per_month'].clip(lower=0)\n",
    "train['public_transport_usage_per_week'] = train['public_transport_usage_per_week'].clip(lower=0)\n",
    "test['public_transport_usage_per_week'] = test['public_transport_usage_per_week'].clip(lower=0)\n",
    "train['home_insulation_quality'] = train['home_insulation_quality'].clip(lower=0, upper=7)\n",
    "test['home_insulation_quality'] = test['home_insulation_quality'].clip(lower=0, upper=7)\n",
    "\n",
    "valid_heating_types = ['electric', 'gas', 'none']\n",
    "valid_diet_types = ['omnivore', 'vegetarian', 'vegan']\n",
    "train['heating_type'] = train['heating_type'].apply(lambda x: x if x in valid_heating_types else train['heating_type'].mode()[0])\n",
    "test['heating_type'] = test['heating_type'].apply(lambda x: x if x in valid_heating_types else train['heating_type'].mode()[0])\n",
    "train['diet_type'] = train['diet_type'].apply(lambda x: x if x in valid_diet_types else train['diet_type'].mode()[0])\n",
    "test['diet_type'] = test['diet_type'].apply(lambda x: x if x in valid_diet_types else train['diet_type'].mode()[0])\n",
    "\n",
    "for df in [train, test]:\n",
    "    df['electricity_per_person'] = df['electricity_kwh_per_month'] / df['household_size']\n",
    "    df['water_per_person'] = df['water_usage_liters_per_day'] / df['household_size']\n",
    "    df['energy_inefficiency'] = df['house_area_sqft'] / (df['home_insulation_quality'] + 1)"
   ]
  },
  {
   "cell_type": "code",
   "execution_count": 8,
   "id": "d9c6a0b8",
   "metadata": {},
   "outputs": [
    {
     "name": "stdout",
     "output_type": "stream",
     "text": [
      "Validation R² Score: 0.8965, Scaled Score: 89.65\n",
      "Submission file created: submission.csv\n"
     ]
    }
   ],
   "source": [
    "train = pd.get_dummies(train, columns=['heating_type', 'diet_type'], drop_first=True)\n",
    "test = pd.get_dummies(test, columns=['heating_type', 'diet_type'], drop_first=True)\n",
    "\n",
    "feature_cols = train.columns.drop(['ID', 'carbon_footprint']).tolist()\n",
    "test = test.reindex(columns=feature_cols, fill_value=0)\n",
    "\n",
    "numerical_cols = numerical_cols + ['electricity_per_person', 'water_per_person', 'energy_inefficiency']\n",
    "scaler = StandardScaler()\n",
    "train[numerical_cols] = scaler.fit_transform(train[numerical_cols])\n",
    "test[numerical_cols] = scaler.transform(test[numerical_cols])\n",
    "\n",
    "X = train.drop(['ID', 'carbon_footprint'], axis=1)\n",
    "y = train['carbon_footprint']\n",
    "X_train, X_val, y_train, y_val = train_test_split(X, y, test_size=0.2, random_state=42)\n",
    "\n",
    "\n",
    "model = XGBRegressor(n_estimators=200, learning_rate=0.05, max_depth=6, random_state=42)\n",
    "model.fit(X_train, y_train)\n",
    "\n",
    "y_pred = model.predict(X_val)\n",
    "r2 = r2_score(y_val, y_pred)\n",
    "print(f'Validation R² Score: {r2:.4f}, Scaled Score: {max(0, 100 * r2):.2f}')\n",
    "\n",
    "X_test = test \n",
    "test_predictions = model.predict(X_test)\n",
    "\n",
    "submission = pd.DataFrame({'ID': test_ids, 'carbon_footprint': test_predictions})\n",
    "submission.to_csv('submission.csv', index=False)\n",
    "print(\"Submission file created: submission.csv\")"
   ]
  },
  {
   "cell_type": "code",
   "execution_count": null,
   "id": "6e7d8631",
   "metadata": {},
   "outputs": [],
   "source": []
  }
 ],
 "metadata": {
  "kernelspec": {
   "display_name": "Python 3 (ipykernel)",
   "language": "python",
   "name": "python3"
  },
  "language_info": {
   "codemirror_mode": {
    "name": "ipython",
    "version": 3
   },
   "file_extension": ".py",
   "mimetype": "text/x-python",
   "name": "python",
   "nbconvert_exporter": "python",
   "pygments_lexer": "ipython3",
   "version": "3.11.5"
  }
 },
 "nbformat": 4,
 "nbformat_minor": 5
}
